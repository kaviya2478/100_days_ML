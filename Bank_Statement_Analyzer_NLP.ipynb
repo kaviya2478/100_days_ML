{
  "nbformat": 4,
  "nbformat_minor": 0,
  "metadata": {
    "colab": {
      "provenance": [],
      "authorship_tag": "ABX9TyNDeuaatdF0CyR5etssNn2V",
      "include_colab_link": true
    },
    "kernelspec": {
      "name": "python3",
      "display_name": "Python 3"
    },
    "language_info": {
      "name": "python"
    }
  },
  "cells": [
    {
      "cell_type": "markdown",
      "metadata": {
        "id": "view-in-github",
        "colab_type": "text"
      },
      "source": [
        "<a href=\"https://colab.research.google.com/github/kaviya2478/100_days_ML/blob/main/Bank_Statement_Analyzer_NLP.ipynb\" target=\"_parent\"><img src=\"https://colab.research.google.com/assets/colab-badge.svg\" alt=\"Open In Colab\"/></a>"
      ]
    },
    {
      "cell_type": "code",
      "execution_count": 1,
      "metadata": {
        "colab": {
          "base_uri": "https://localhost:8080/"
        },
        "id": "mwaPorKjsmMo",
        "outputId": "4e7dcee3-2971-4289-ce54-5efe24ffc65b"
      },
      "outputs": [
        {
          "output_type": "stream",
          "name": "stdout",
          "text": [
            "Requirement already satisfied: pandas in /usr/local/lib/python3.11/dist-packages (2.2.2)\n",
            "Collecting camelot-py\n",
            "  Downloading camelot_py-1.0.0-py3-none-any.whl.metadata (9.4 kB)\n",
            "Collecting tabula-py\n",
            "  Downloading tabula_py-2.10.0-py3-none-any.whl.metadata (7.6 kB)\n",
            "Collecting pdfplumber\n",
            "  Downloading pdfplumber-0.11.5-py3-none-any.whl.metadata (42 kB)\n",
            "\u001b[2K     \u001b[90m━━━━━━━━━━━━━━━━━━━━━━━━━━━━━━━━━━━━━━━━\u001b[0m \u001b[32m42.5/42.5 kB\u001b[0m \u001b[31m1.8 MB/s\u001b[0m eta \u001b[36m0:00:00\u001b[0m\n",
            "\u001b[?25hCollecting PyPDF2\n",
            "  Downloading pypdf2-3.0.1-py3-none-any.whl.metadata (6.8 kB)\n",
            "Collecting pytesseract\n",
            "  Downloading pytesseract-0.3.13-py3-none-any.whl.metadata (11 kB)\n",
            "Requirement already satisfied: numpy>=1.23.2 in /usr/local/lib/python3.11/dist-packages (from pandas) (1.26.4)\n",
            "Requirement already satisfied: python-dateutil>=2.8.2 in /usr/local/lib/python3.11/dist-packages (from pandas) (2.8.2)\n",
            "Requirement already satisfied: pytz>=2020.1 in /usr/local/lib/python3.11/dist-packages (from pandas) (2025.1)\n",
            "Requirement already satisfied: tzdata>=2022.7 in /usr/local/lib/python3.11/dist-packages (from pandas) (2025.1)\n",
            "Requirement already satisfied: click>=8.0.1 in /usr/local/lib/python3.11/dist-packages (from camelot-py) (8.1.8)\n",
            "Requirement already satisfied: chardet>=5.1.0 in /usr/local/lib/python3.11/dist-packages (from camelot-py) (5.2.0)\n",
            "Requirement already satisfied: openpyxl>=3.1.0 in /usr/local/lib/python3.11/dist-packages (from camelot-py) (3.1.5)\n",
            "Collecting pdfminer-six>=20240706 (from camelot-py)\n",
            "  Downloading pdfminer.six-20240706-py3-none-any.whl.metadata (4.1 kB)\n",
            "Collecting pypdf<4.0,>=3.17 (from camelot-py)\n",
            "  Downloading pypdf-3.17.4-py3-none-any.whl.metadata (7.5 kB)\n",
            "Requirement already satisfied: tabulate>=0.9.0 in /usr/local/lib/python3.11/dist-packages (from camelot-py) (0.9.0)\n",
            "Requirement already satisfied: opencv-python-headless>=4.7.0.68 in /usr/local/lib/python3.11/dist-packages (from camelot-py) (4.11.0.86)\n",
            "Collecting pypdfium2>=4 (from camelot-py)\n",
            "  Downloading pypdfium2-4.30.1-py3-none-manylinux_2_17_x86_64.manylinux2014_x86_64.whl.metadata (48 kB)\n",
            "\u001b[2K     \u001b[90m━━━━━━━━━━━━━━━━━━━━━━━━━━━━━━━━━━━━━━━━\u001b[0m \u001b[32m48.2/48.2 kB\u001b[0m \u001b[31m3.6 MB/s\u001b[0m eta \u001b[36m0:00:00\u001b[0m\n",
            "\u001b[?25hRequirement already satisfied: distro in /usr/local/lib/python3.11/dist-packages (from tabula-py) (1.9.0)\n",
            "INFO: pip is looking at multiple versions of pdfplumber to determine which version is compatible with other requirements. This could take a while.\n",
            "Collecting pdfplumber\n",
            "  Downloading pdfplumber-0.11.4-py3-none-any.whl.metadata (41 kB)\n",
            "\u001b[2K     \u001b[90m━━━━━━━━━━━━━━━━━━━━━━━━━━━━━━━━━━━━━━━━\u001b[0m \u001b[32m42.0/42.0 kB\u001b[0m \u001b[31m3.1 MB/s\u001b[0m eta \u001b[36m0:00:00\u001b[0m\n",
            "\u001b[?25h  Downloading pdfplumber-0.11.3-py3-none-any.whl.metadata (41 kB)\n",
            "\u001b[2K     \u001b[90m━━━━━━━━━━━━━━━━━━━━━━━━━━━━━━━━━━━━━━━━\u001b[0m \u001b[32m42.0/42.0 kB\u001b[0m \u001b[31m3.5 MB/s\u001b[0m eta \u001b[36m0:00:00\u001b[0m\n",
            "\u001b[?25h  Downloading pdfplumber-0.11.2-py3-none-any.whl.metadata (40 kB)\n",
            "\u001b[2K     \u001b[90m━━━━━━━━━━━━━━━━━━━━━━━━━━━━━━━━━━━━━━━━\u001b[0m \u001b[32m40.1/40.1 kB\u001b[0m \u001b[31m3.1 MB/s\u001b[0m eta \u001b[36m0:00:00\u001b[0m\n",
            "\u001b[?25h  Downloading pdfplumber-0.11.1-py3-none-any.whl.metadata (39 kB)\n",
            "  Downloading pdfplumber-0.11.0-py3-none-any.whl.metadata (39 kB)\n",
            "  Downloading pdfplumber-0.10.4-py3-none-any.whl.metadata (39 kB)\n",
            "  Downloading pdfplumber-0.10.3-py3-none-any.whl.metadata (38 kB)\n",
            "INFO: pip is still looking at multiple versions of pdfplumber to determine which version is compatible with other requirements. This could take a while.\n",
            "  Downloading pdfplumber-0.10.2-py3-none-any.whl.metadata (35 kB)\n",
            "  Downloading pdfplumber-0.10.1-py3-none-any.whl.metadata (35 kB)\n",
            "  Downloading pdfplumber-0.10.0.tar.gz (87 kB)\n",
            "\u001b[2K     \u001b[90m━━━━━━━━━━━━━━━━━━━━━━━━━━━━━━━━━━━━━━━━\u001b[0m \u001b[32m87.6/87.6 kB\u001b[0m \u001b[31m8.0 MB/s\u001b[0m eta \u001b[36m0:00:00\u001b[0m\n",
            "\u001b[?25h  Preparing metadata (setup.py) ... \u001b[?25l\u001b[?25hdone\n",
            "  Downloading pdfplumber-0.9.0-py3-none-any.whl.metadata (35 kB)\n",
            "  Downloading pdfplumber-0.8.1-py3-none-any.whl.metadata (34 kB)\n",
            "INFO: This is taking longer than usual. You might need to provide the dependency resolver with stricter constraints to reduce runtime. See https://pip.pypa.io/warnings/backtracking for guidance. If you want to abort this run, press Ctrl + C.\n",
            "  Downloading pdfplumber-0.8.0-py3-none-any.whl.metadata (33 kB)\n",
            "  Downloading pdfplumber-0.7.6-py3-none-any.whl.metadata (32 kB)\n",
            "  Downloading pdfplumber-0.7.5-py3-none-any.whl.metadata (32 kB)\n",
            "  Downloading pdfplumber-0.7.4-py3-none-any.whl.metadata (32 kB)\n",
            "  Downloading pdfplumber-0.7.3-py3-none-any.whl.metadata (31 kB)\n",
            "  Downloading pdfplumber-0.7.2-py3-none-any.whl.metadata (31 kB)\n",
            "  Downloading pdfplumber-0.7.1-py3-none-any.whl.metadata (31 kB)\n",
            "  Downloading pdfplumber-0.7.0-py3-none-any.whl.metadata (31 kB)\n",
            "  Downloading pdfplumber-0.6.2-py3-none-any.whl.metadata (28 kB)\n",
            "  Downloading pdfplumber-0.6.1-py3-none-any.whl.metadata (28 kB)\n",
            "  Downloading pdfplumber-0.6.0.tar.gz (46 kB)\n",
            "\u001b[2K     \u001b[90m━━━━━━━━━━━━━━━━━━━━━━━━━━━━━━━━━━━━━━━━\u001b[0m \u001b[32m46.7/46.7 kB\u001b[0m \u001b[31m3.7 MB/s\u001b[0m eta \u001b[36m0:00:00\u001b[0m\n",
            "\u001b[?25h  Preparing metadata (setup.py) ... \u001b[?25l\u001b[?25hdone\n",
            "  Downloading pdfplumber-0.5.28.tar.gz (45 kB)\n",
            "\u001b[2K     \u001b[90m━━━━━━━━━━━━━━━━━━━━━━━━━━━━━━━━━━━━━━━━\u001b[0m \u001b[32m45.7/45.7 kB\u001b[0m \u001b[31m3.5 MB/s\u001b[0m eta \u001b[36m0:00:00\u001b[0m\n",
            "\u001b[?25h  Preparing metadata (setup.py) ... \u001b[?25l\u001b[?25hdone\n",
            "  Downloading pdfplumber-0.5.27.tar.gz (44 kB)\n",
            "\u001b[2K     \u001b[90m━━━━━━━━━━━━━━━━━━━━━━━━━━━━━━━━━━━━━━━━\u001b[0m \u001b[32m44.5/44.5 kB\u001b[0m \u001b[31m2.5 MB/s\u001b[0m eta \u001b[36m0:00:00\u001b[0m\n",
            "\u001b[?25h  Preparing metadata (setup.py) ... \u001b[?25l\u001b[?25hdone\n",
            "  Downloading pdfplumber-0.5.26.tar.gz (43 kB)\n",
            "\u001b[2K     \u001b[90m━━━━━━━━━━━━━━━━━━━━━━━━━━━━━━━━━━━━━━━━\u001b[0m \u001b[32m43.6/43.6 kB\u001b[0m \u001b[31m1.9 MB/s\u001b[0m eta \u001b[36m0:00:00\u001b[0m\n",
            "\u001b[?25h  Preparing metadata (setup.py) ... \u001b[?25l\u001b[?25hdone\n",
            "  Downloading pdfplumber-0.5.25.tar.gz (42 kB)\n",
            "\u001b[2K     \u001b[90m━━━━━━━━━━━━━━━━━━━━━━━━━━━━━━━━━━━━━━━━\u001b[0m \u001b[32m42.9/42.9 kB\u001b[0m \u001b[31m3.6 MB/s\u001b[0m eta \u001b[36m0:00:00\u001b[0m\n",
            "\u001b[?25h  Preparing metadata (setup.py) ... \u001b[?25l\u001b[?25hdone\n",
            "  Downloading pdfplumber-0.5.24.tar.gz (42 kB)\n",
            "\u001b[2K     \u001b[90m━━━━━━━━━━━━━━━━━━━━━━━━━━━━━━━━━━━━━━━━\u001b[0m \u001b[32m42.1/42.1 kB\u001b[0m \u001b[31m3.4 MB/s\u001b[0m eta \u001b[36m0:00:00\u001b[0m\n",
            "\u001b[?25h  Preparing metadata (setup.py) ... \u001b[?25l\u001b[?25hdone\n",
            "  Downloading pdfplumber-0.5.23.tar.gz (38 kB)\n",
            "  Preparing metadata (setup.py) ... \u001b[?25l\u001b[?25hdone\n",
            "  Downloading pdfplumber-0.5.22.tar.gz (36 kB)\n",
            "  Preparing metadata (setup.py) ... \u001b[?25l\u001b[?25hdone\n",
            "Collecting pycryptodome (from pdfplumber)\n",
            "  Downloading pycryptodome-3.21.0-cp36-abi3-manylinux_2_17_x86_64.manylinux2014_x86_64.whl.metadata (3.4 kB)\n",
            "Collecting unicodecsv>=0.14.1 (from pdfplumber)\n",
            "  Downloading unicodecsv-0.14.1.tar.gz (10 kB)\n",
            "  Preparing metadata (setup.py) ... \u001b[?25l\u001b[?25hdone\n",
            "Collecting pdfplumber\n",
            "  Downloading pdfplumber-0.5.21.tar.gz (36 kB)\n",
            "  Preparing metadata (setup.py) ... \u001b[?25l\u001b[?25hdone\n",
            "  Downloading pdfplumber-0.5.20.tar.gz (36 kB)\n",
            "  Preparing metadata (setup.py) ... \u001b[?25l\u001b[?25hdone\n",
            "  Downloading pdfplumber-0.5.19.tar.gz (35 kB)\n",
            "  Preparing metadata (setup.py) ... \u001b[?25l\u001b[?25hdone\n",
            "  Downloading pdfplumber-0.5.18.tar.gz (35 kB)\n",
            "  Preparing metadata (setup.py) ... \u001b[?25l\u001b[?25hdone\n",
            "  Downloading pdfplumber-0.5.17.tar.gz (35 kB)\n",
            "  Preparing metadata (setup.py) ... \u001b[?25l\u001b[?25hdone\n",
            "  Downloading pdfplumber-0.5.16.tar.gz (34 kB)\n",
            "  Preparing metadata (setup.py) ... \u001b[?25l\u001b[?25hdone\n",
            "  Downloading pdfplumber-0.5.15.tar.gz (34 kB)\n",
            "  Preparing metadata (setup.py) ... \u001b[?25l\u001b[?25hdone\n",
            "  Downloading pdfplumber-0.5.14.tar.gz (34 kB)\n",
            "  Preparing metadata (setup.py) ... \u001b[?25l\u001b[?25hdone\n",
            "  Downloading pdfplumber-0.5.13.tar.gz (34 kB)\n",
            "  Preparing metadata (setup.py) ... \u001b[?25l\u001b[?25hdone\n",
            "  Downloading pdfplumber-0.5.12.tar.gz (33 kB)\n",
            "  Preparing metadata (setup.py) ... \u001b[?25l\u001b[?25hdone\n",
            "  Downloading pdfplumber-0.5.11.tar.gz (33 kB)\n",
            "  Preparing metadata (setup.py) ... \u001b[?25l\u001b[?25hdone\n",
            "  Downloading pdfplumber-0.5.10.tar.gz (32 kB)\n",
            "  Preparing metadata (setup.py) ... \u001b[?25l\u001b[?25hdone\n",
            "  Downloading pdfplumber-0.5.9.tar.gz (32 kB)\n",
            "  Preparing metadata (setup.py) ... \u001b[?25l\u001b[?25hdone\n",
            "  Downloading pdfplumber-0.5.8.tar.gz (32 kB)\n",
            "  Preparing metadata (setup.py) ... \u001b[?25l\u001b[?25hdone\n",
            "  Downloading pdfplumber-0.5.7.tar.gz (14 kB)\n",
            "  Preparing metadata (setup.py) ... \u001b[?25l\u001b[?25hdone\n",
            "  Downloading pdfplumber-0.5.6.tar.gz (14 kB)\n",
            "  Preparing metadata (setup.py) ... \u001b[?25l\u001b[?25hdone\n",
            "Collecting pycrypto (from pdfplumber)\n",
            "  Downloading pycrypto-2.6.1.tar.gz (446 kB)\n",
            "\u001b[2K     \u001b[90m━━━━━━━━━━━━━━━━━━━━━━━━━━━━━━━━━━━━━━━━\u001b[0m \u001b[32m446.2/446.2 kB\u001b[0m \u001b[31m9.4 MB/s\u001b[0m eta \u001b[36m0:00:00\u001b[0m\n",
            "\u001b[?25h  Preparing metadata (setup.py) ... \u001b[?25l\u001b[?25hdone\n",
            "Collecting pdfplumber\n",
            "  Downloading pdfplumber-0.5.5.tar.gz (24 kB)\n",
            "  Preparing metadata (setup.py) ... \u001b[?25l\u001b[?25hdone\n",
            "  Downloading pdfplumber-0.5.4.tar.gz (24 kB)\n",
            "  Preparing metadata (setup.py) ... \u001b[?25l\u001b[?25hdone\n",
            "  Downloading pdfplumber-0.5.3.tar.gz (14 kB)\n",
            "  Preparing metadata (setup.py) ... \u001b[?25l\u001b[?25hdone\n",
            "Requirement already satisfied: pillow>=3.0.0 in /usr/local/lib/python3.11/dist-packages (from pdfplumber) (11.1.0)\n",
            "Collecting wand (from pdfplumber)\n",
            "  Downloading Wand-0.6.13-py2.py3-none-any.whl.metadata (4.0 kB)\n",
            "Requirement already satisfied: packaging>=21.3 in /usr/local/lib/python3.11/dist-packages (from pytesseract) (24.2)\n",
            "Requirement already satisfied: et-xmlfile in /usr/local/lib/python3.11/dist-packages (from openpyxl>=3.1.0->camelot-py) (2.0.0)\n",
            "Requirement already satisfied: charset-normalizer>=2.0.0 in /usr/local/lib/python3.11/dist-packages (from pdfminer-six>=20240706->camelot-py) (3.4.1)\n",
            "Requirement already satisfied: cryptography>=36.0.0 in /usr/local/lib/python3.11/dist-packages (from pdfminer-six>=20240706->camelot-py) (43.0.3)\n",
            "Requirement already satisfied: six>=1.5 in /usr/local/lib/python3.11/dist-packages (from python-dateutil>=2.8.2->pandas) (1.17.0)\n",
            "Requirement already satisfied: cffi>=1.12 in /usr/local/lib/python3.11/dist-packages (from cryptography>=36.0.0->pdfminer-six>=20240706->camelot-py) (1.17.1)\n",
            "Requirement already satisfied: pycparser in /usr/local/lib/python3.11/dist-packages (from cffi>=1.12->cryptography>=36.0.0->pdfminer-six>=20240706->camelot-py) (2.22)\n",
            "Downloading camelot_py-1.0.0-py3-none-any.whl (66 kB)\n",
            "\u001b[2K   \u001b[90m━━━━━━━━━━━━━━━━━━━━━━━━━━━━━━━━━━━━━━━━\u001b[0m \u001b[32m66.6/66.6 kB\u001b[0m \u001b[31m5.3 MB/s\u001b[0m eta \u001b[36m0:00:00\u001b[0m\n",
            "\u001b[?25hDownloading tabula_py-2.10.0-py3-none-any.whl (12.0 MB)\n",
            "\u001b[2K   \u001b[90m━━━━━━━━━━━━━━━━━━━━━━━━━━━━━━━━━━━━━━━━\u001b[0m \u001b[32m12.0/12.0 MB\u001b[0m \u001b[31m50.4 MB/s\u001b[0m eta \u001b[36m0:00:00\u001b[0m\n",
            "\u001b[?25hDownloading pypdf2-3.0.1-py3-none-any.whl (232 kB)\n",
            "\u001b[2K   \u001b[90m━━━━━━━━━━━━━━━━━━━━━━━━━━━━━━━━━━━━━━━━\u001b[0m \u001b[32m232.6/232.6 kB\u001b[0m \u001b[31m14.0 MB/s\u001b[0m eta \u001b[36m0:00:00\u001b[0m\n",
            "\u001b[?25hDownloading pytesseract-0.3.13-py3-none-any.whl (14 kB)\n",
            "Downloading pdfminer.six-20240706-py3-none-any.whl (5.6 MB)\n",
            "\u001b[2K   \u001b[90m━━━━━━━━━━━━━━━━━━━━━━━━━━━━━━━━━━━━━━━━\u001b[0m \u001b[32m5.6/5.6 MB\u001b[0m \u001b[31m42.0 MB/s\u001b[0m eta \u001b[36m0:00:00\u001b[0m\n",
            "\u001b[?25hDownloading pypdf-3.17.4-py3-none-any.whl (278 kB)\n",
            "\u001b[2K   \u001b[90m━━━━━━━━━━━━━━━━━━━━━━━━━━━━━━━━━━━━━━━━\u001b[0m \u001b[32m278.2/278.2 kB\u001b[0m \u001b[31m13.5 MB/s\u001b[0m eta \u001b[36m0:00:00\u001b[0m\n",
            "\u001b[?25hDownloading pypdfium2-4.30.1-py3-none-manylinux_2_17_x86_64.manylinux2014_x86_64.whl (2.9 MB)\n",
            "\u001b[2K   \u001b[90m━━━━━━━━━━━━━━━━━━━━━━━━━━━━━━━━━━━━━━━━\u001b[0m \u001b[32m2.9/2.9 MB\u001b[0m \u001b[31m38.6 MB/s\u001b[0m eta \u001b[36m0:00:00\u001b[0m\n",
            "\u001b[?25hDownloading Wand-0.6.13-py2.py3-none-any.whl (143 kB)\n",
            "\u001b[2K   \u001b[90m━━━━━━━━━━━━━━━━━━━━━━━━━━━━━━━━━━━━━━━━\u001b[0m \u001b[32m143.8/143.8 kB\u001b[0m \u001b[31m9.5 MB/s\u001b[0m eta \u001b[36m0:00:00\u001b[0m\n",
            "\u001b[?25hBuilding wheels for collected packages: pdfplumber, unicodecsv, pycrypto\n",
            "  Building wheel for pdfplumber (setup.py) ... \u001b[?25l\u001b[?25hdone\n",
            "  Created wheel for pdfplumber: filename=pdfplumber-0.5.3-py3-none-any.whl size=18056 sha256=15dbb30bce7b2b12cc6bc97772a0bc00a46e89adf357d15252c7764f37313566\n",
            "  Stored in directory: /root/.cache/pip/wheels/69/fd/d4/203ec85dbe59954f486c4ec85a705ef289e7a8046a5f2ea197\n",
            "  Building wheel for unicodecsv (setup.py) ... \u001b[?25l\u001b[?25hdone\n",
            "  Created wheel for unicodecsv: filename=unicodecsv-0.14.1-py3-none-any.whl size=10744 sha256=a3d002ee4b0eeedea68bbbe68cea90f8e395ee9967770f6161c0396c746d85ad\n",
            "  Stored in directory: /root/.cache/pip/wheels/ec/03/6f/d2e0162d94c0d451556fa43dd4d5531457245c34a36b41ef4a\n",
            "  Building wheel for pycrypto (setup.py) ... \u001b[?25l\u001b[?25hdone\n",
            "  Created wheel for pycrypto: filename=pycrypto-2.6.1-cp311-cp311-linux_x86_64.whl size=498645 sha256=552e9787344afd4da6a11e295574d9f9207268a634daaef40376aa8244a0c06a\n",
            "  Stored in directory: /root/.cache/pip/wheels/88/0a/1a/35933feb1f6b635d5b661781fb1361a728fcde50f1cd164b7c\n",
            "Successfully built pdfplumber unicodecsv pycrypto\n",
            "Installing collected packages: wand, unicodecsv, pycrypto, pytesseract, pypdfium2, PyPDF2, pypdf, tabula-py, pdfminer-six, pdfplumber, camelot-py\n",
            "Successfully installed PyPDF2-3.0.1 camelot-py-1.0.0 pdfminer-six-20240706 pdfplumber-0.5.3 pycrypto-2.6.1 pypdf-3.17.4 pypdfium2-4.30.1 pytesseract-0.3.13 tabula-py-2.10.0 unicodecsv-0.14.1 wand-0.6.13\n"
          ]
        }
      ],
      "source": [
        "pip install pandas camelot-py tabula-py pdfplumber PyPDF2 pytesseract\n"
      ]
    },
    {
      "cell_type": "markdown",
      "source": [
        "##Extracting Data From PDF"
      ],
      "metadata": {
        "id": "vOUJy4V8zDMn"
      }
    },
    {
      "cell_type": "code",
      "source": [
        "import camelot\n",
        "\n",
        "pdf_path = \"Synthetic Data 1.pdf\"\n",
        "tables = camelot.read_pdf(pdf_path, pages=\"all\")\n",
        "\n",
        "df = tables[0].df\n",
        "df.columns = df.iloc[0]\n",
        "df = df[1:]\n",
        "df.reset_index(drop=True, inplace=True)\n",
        "\n",
        "print(df.head())\n",
        "df.to_csv(\"extracted_transactions.csv\", index=False)\n",
        "\n"
      ],
      "metadata": {
        "colab": {
          "base_uri": "https://localhost:8080/"
        },
        "id": "wuk5F9tWsxbz",
        "outputId": "1d468bfb-3ef2-4f02-d970-fa9815ede1df"
      },
      "execution_count": 14,
      "outputs": [
        {
          "output_type": "stream",
          "name": "stdout",
          "text": [
            "0 S. No\\nCheque/Ref No\\nValue Date\\nDate\\nTransaction \\nWithdrawal (Dr)\\nDeposit (Cr)\\nRemarks  \\\n",
            "0                                                  1                                             \n",
            "1                                                  2                                             \n",
            "2                                                  3                                             \n",
            "3                                                  4                                             \n",
            "4                                                  5                                             \n",
            "\n",
            "0                                                          \\\n",
            "0  436251  01-Sep-2024 \\n09:00:23  01-Sep-2024 \\n09:00:23   \n",
            "1  936412  01-Sep-2024 \\n09:05:02  01-Sep-2024 \\n09:05:02   \n",
            "2  351286  01-Sep-2024 \\n10:12:45  01-Sep-2024 \\n10:12:45   \n",
            "3  125874  01-Sep-2024 \\n11:30:11  01-Sep-2024 \\n11:30:11   \n",
            "4  412398  02-Sep-2024 \\n08:45:37  02-Sep-2024 \\n08:45:37   \n",
            "\n",
            "0                                                        \n",
            "0         UPI/REF983457234 \\nPayment           50000.00  \n",
            "1                     ATM Withdrawal  2000.00            \n",
            "2           NEFT/INR/457832 \\nSalary           40000.00  \n",
            "3  IMPS/REF1029384 \\nOnline Transfer  5000.00            \n",
            "4       UPI Payment: \\nGrocery Store  2500.00            \n"
          ]
        }
      ]
    },
    {
      "cell_type": "code",
      "source": [
        "print(df.columns)  # Print existing column names\n",
        "print(df.head())  # Preview first few rows\n",
        "print(df.shape)  # Show number of rows & columns\n"
      ],
      "metadata": {
        "colab": {
          "base_uri": "https://localhost:8080/"
        },
        "id": "kEHDvHK5twrZ",
        "outputId": "f73539ed-d21b-4794-ce54-e62c12a48de8"
      },
      "execution_count": 5,
      "outputs": [
        {
          "output_type": "stream",
          "name": "stdout",
          "text": [
            "Index(['S. No\\nCheque/Ref No\\nValue Date\\nDate\\nTransaction \\nWithdrawal (Dr)\\nDeposit (Cr)\\nRemarks',\n",
            "       'Unnamed: 1', 'Unnamed: 2', 'Unnamed: 3', 'Unnamed: 4', 'Unnamed: 5',\n",
            "       'Unnamed: 6'],\n",
            "      dtype='object')\n",
            "   S. No\\nCheque/Ref No\\nValue Date\\nDate\\nTransaction \\nWithdrawal (Dr)\\nDeposit (Cr)\\nRemarks  \\\n",
            "0                                                  1                                              \n",
            "1                                                  2                                              \n",
            "2                                                  3                                              \n",
            "3                                                  4                                              \n",
            "4                                                  5                                              \n",
            "\n",
            "   Unnamed: 1              Unnamed: 2              Unnamed: 3  \\\n",
            "0      436251  01-Sep-2024 \\n09:00:23  01-Sep-2024 \\n09:00:23   \n",
            "1      936412  01-Sep-2024 \\n09:05:02  01-Sep-2024 \\n09:05:02   \n",
            "2      351286  01-Sep-2024 \\n10:12:45  01-Sep-2024 \\n10:12:45   \n",
            "3      125874  01-Sep-2024 \\n11:30:11  01-Sep-2024 \\n11:30:11   \n",
            "4      412398  02-Sep-2024 \\n08:45:37  02-Sep-2024 \\n08:45:37   \n",
            "\n",
            "                          Unnamed: 4  Unnamed: 5  Unnamed: 6  \n",
            "0         UPI/REF983457234 \\nPayment         NaN     50000.0  \n",
            "1                     ATM Withdrawal      2000.0         NaN  \n",
            "2           NEFT/INR/457832 \\nSalary         NaN     40000.0  \n",
            "3  IMPS/REF1029384 \\nOnline Transfer      5000.0         NaN  \n",
            "4       UPI Payment: \\nGrocery Store      2500.0         NaN  \n",
            "(29, 7)\n"
          ]
        }
      ]
    },
    {
      "cell_type": "markdown",
      "source": [
        "##Cleaning the data\n"
      ],
      "metadata": {
        "id": "3SmMiqNSzLeM"
      }
    },
    {
      "cell_type": "code",
      "source": [
        "expected_columns = [\"Date\", \"Time\", \"Description\", \"Transaction Type\", \"Amount\", \"Balance\"]\n",
        "\n",
        "if len(df.columns) > len(expected_columns):\n",
        "    df = df.iloc[:, :len(expected_columns)]\n",
        "\n",
        "df.columns = expected_columns\n"
      ],
      "metadata": {
        "id": "HiwUMwLHtwmI"
      },
      "execution_count": 6,
      "outputs": []
    },
    {
      "cell_type": "code",
      "source": [
        "import pandas as pd\n",
        "\n",
        "df = pd.read_csv(\"extracted_transactions.csv\")\n",
        "\n",
        "\n",
        "df = df.rename(columns={\n",
        "    \"Unnamed: 1\": \"Cheque/Ref No\",\n",
        "    \"Unnamed: 2\": \"Value Date\",\n",
        "    \"Unnamed: 3\": \"Date\",\n",
        "    \"Unnamed: 4\": \"Transaction Details\",\n",
        "    \"Unnamed: 5\": \"Withdrawal (Dr)\",\n",
        "    \"Unnamed: 6\": \"Deposit (Cr)\"\n",
        "})\n",
        "\n",
        "df = df[[\"Date\", \"Transaction Details\", \"Withdrawal (Dr)\", \"Deposit (Cr)\"]]\n",
        "\n",
        "df[\"Date\"] = pd.to_datetime(df[\"Date\"].str.strip(), errors=\"coerce\").dt.strftime(\"%Y-%m-%d\")\n",
        "\n",
        "df.fillna({\"Withdrawal (Dr)\": 0, \"Deposit (Cr)\": 0}, inplace=True)\n",
        "\n",
        "\n",
        "df[\"Withdrawal (Dr)\"] = df[\"Withdrawal (Dr)\"].replace(r\"[^\\d.]\", \"\", regex=True).astype(float)\n",
        "df[\"Deposit (Cr)\"] = df[\"Deposit (Cr)\"].replace(r\"[^\\d.]\", \"\", regex=True).astype(float)\n",
        "\n",
        "\n",
        "df.to_csv(\"cleaned_transactions.csv\", index=False)\n",
        "df.to_json(\"cleaned_transactions.json\", orient=\"records\", indent=4)\n",
        "\n",
        "print(\"✅ Data Cleaning Complete! Saved as 'cleaned_transactions.csv'\")\n",
        "print(df.head())\n",
        "\n"
      ],
      "metadata": {
        "colab": {
          "base_uri": "https://localhost:8080/"
        },
        "id": "pA1Kx_gPtZky",
        "outputId": "a52b9b58-e77d-4115-a6d4-2e81d1994a08"
      },
      "execution_count": 15,
      "outputs": [
        {
          "output_type": "stream",
          "name": "stdout",
          "text": [
            "✅ Data Cleaning Complete! Saved as 'cleaned_transactions.csv'\n",
            "         Date                Transaction Details  Withdrawal (Dr)  \\\n",
            "0  2024-09-01         UPI/REF983457234 \\nPayment              0.0   \n",
            "1  2024-09-01                     ATM Withdrawal           2000.0   \n",
            "2  2024-09-01           NEFT/INR/457832 \\nSalary              0.0   \n",
            "3  2024-09-01  IMPS/REF1029384 \\nOnline Transfer           5000.0   \n",
            "4  2024-09-02       UPI Payment: \\nGrocery Store           2500.0   \n",
            "\n",
            "   Deposit (Cr)  \n",
            "0       50000.0  \n",
            "1           0.0  \n",
            "2       40000.0  \n",
            "3           0.0  \n",
            "4           0.0  \n"
          ]
        }
      ]
    },
    {
      "cell_type": "markdown",
      "source": [
        "##Transaction Categorization"
      ],
      "metadata": {
        "id": "Dnz6EpWPzVEg"
      }
    },
    {
      "cell_type": "code",
      "source": [
        "import pandas as pd\n",
        "\n",
        "\n",
        "df = pd.read_csv(\"cleaned_transactions.csv\")\n",
        "\n",
        "def categorize_transaction(description):\n",
        "    description = str(description).lower()\n",
        "\n",
        "    if any(keyword in description for keyword in [\"salary\", \"neft\", \"refund\", \"deposit\"]):\n",
        "        return \"Income\"\n",
        "    elif any(keyword in description for keyword in [\"upi\", \"grocery\", \"pos\", \"shopping\", \"bill\"]):\n",
        "        return \"Expense\"\n",
        "    elif any(keyword in description for keyword in [\"loan\", \"emi\", \"mortgage\"]):\n",
        "        return \"Loan Payment\"\n",
        "    elif any(keyword in description for keyword in [\"imps\", \"online transfer\"]):\n",
        "        return \"Transfer\"\n",
        "    elif any(keyword in description for keyword in [\"atm\", \"pos debit\"]):\n",
        "        return \"Withdrawal\"\n",
        "    else:\n",
        "        return \"Uncategorized\"\n",
        "\n",
        "\n",
        "df[\"Category\"] = df[\"Transaction Details\"].apply(categorize_transaction)\n",
        "\n",
        "\n",
        "df.to_csv(\"categorized_transactions.csv\", index=False)\n",
        "df.to_json(\"categorized_transactions.json\", orient=\"records\", indent=4)\n",
        "\n",
        "print(\"✅ Categorization Complete! Saved as 'categorized_transactions.csv'\")\n",
        "print(df.head())\n"
      ],
      "metadata": {
        "colab": {
          "base_uri": "https://localhost:8080/"
        },
        "id": "MV3z2SwAuM93",
        "outputId": "de1198ab-1250-411f-be09-54b98c34fa63"
      },
      "execution_count": 16,
      "outputs": [
        {
          "output_type": "stream",
          "name": "stdout",
          "text": [
            "✅ Categorization Complete! Saved as 'categorized_transactions.csv'\n",
            "         Date                Transaction Details  Withdrawal (Dr)  \\\n",
            "0  2024-09-01         UPI/REF983457234 \\nPayment              0.0   \n",
            "1  2024-09-01                     ATM Withdrawal           2000.0   \n",
            "2  2024-09-01           NEFT/INR/457832 \\nSalary              0.0   \n",
            "3  2024-09-01  IMPS/REF1029384 \\nOnline Transfer           5000.0   \n",
            "4  2024-09-02       UPI Payment: \\nGrocery Store           2500.0   \n",
            "\n",
            "   Deposit (Cr)    Category  \n",
            "0       50000.0     Expense  \n",
            "1           0.0  Withdrawal  \n",
            "2       40000.0      Income  \n",
            "3           0.0    Transfer  \n",
            "4           0.0     Expense  \n"
          ]
        }
      ]
    },
    {
      "cell_type": "markdown",
      "source": [
        "##Build API Endpoints"
      ],
      "metadata": {
        "id": "ctCwKZh1za4a"
      }
    },
    {
      "cell_type": "code",
      "source": [
        "pip install fastapi uvicorn pandas\n"
      ],
      "metadata": {
        "colab": {
          "base_uri": "https://localhost:8080/"
        },
        "id": "DEOEsI8_usgq",
        "outputId": "d6a339aa-35d7-41cf-d9c3-73d72793cb87"
      },
      "execution_count": 10,
      "outputs": [
        {
          "output_type": "stream",
          "name": "stdout",
          "text": [
            "Collecting fastapi\n",
            "  Downloading fastapi-0.115.8-py3-none-any.whl.metadata (27 kB)\n",
            "Collecting uvicorn\n",
            "  Downloading uvicorn-0.34.0-py3-none-any.whl.metadata (6.5 kB)\n",
            "Requirement already satisfied: pandas in /usr/local/lib/python3.11/dist-packages (2.2.2)\n",
            "Collecting starlette<0.46.0,>=0.40.0 (from fastapi)\n",
            "  Downloading starlette-0.45.3-py3-none-any.whl.metadata (6.3 kB)\n",
            "Requirement already satisfied: pydantic!=1.8,!=1.8.1,!=2.0.0,!=2.0.1,!=2.1.0,<3.0.0,>=1.7.4 in /usr/local/lib/python3.11/dist-packages (from fastapi) (2.10.6)\n",
            "Requirement already satisfied: typing-extensions>=4.8.0 in /usr/local/lib/python3.11/dist-packages (from fastapi) (4.12.2)\n",
            "Requirement already satisfied: click>=7.0 in /usr/local/lib/python3.11/dist-packages (from uvicorn) (8.1.8)\n",
            "Requirement already satisfied: h11>=0.8 in /usr/local/lib/python3.11/dist-packages (from uvicorn) (0.14.0)\n",
            "Requirement already satisfied: numpy>=1.23.2 in /usr/local/lib/python3.11/dist-packages (from pandas) (1.26.4)\n",
            "Requirement already satisfied: python-dateutil>=2.8.2 in /usr/local/lib/python3.11/dist-packages (from pandas) (2.8.2)\n",
            "Requirement already satisfied: pytz>=2020.1 in /usr/local/lib/python3.11/dist-packages (from pandas) (2025.1)\n",
            "Requirement already satisfied: tzdata>=2022.7 in /usr/local/lib/python3.11/dist-packages (from pandas) (2025.1)\n",
            "Requirement already satisfied: annotated-types>=0.6.0 in /usr/local/lib/python3.11/dist-packages (from pydantic!=1.8,!=1.8.1,!=2.0.0,!=2.0.1,!=2.1.0,<3.0.0,>=1.7.4->fastapi) (0.7.0)\n",
            "Requirement already satisfied: pydantic-core==2.27.2 in /usr/local/lib/python3.11/dist-packages (from pydantic!=1.8,!=1.8.1,!=2.0.0,!=2.0.1,!=2.1.0,<3.0.0,>=1.7.4->fastapi) (2.27.2)\n",
            "Requirement already satisfied: six>=1.5 in /usr/local/lib/python3.11/dist-packages (from python-dateutil>=2.8.2->pandas) (1.17.0)\n",
            "Requirement already satisfied: anyio<5,>=3.6.2 in /usr/local/lib/python3.11/dist-packages (from starlette<0.46.0,>=0.40.0->fastapi) (3.7.1)\n",
            "Requirement already satisfied: idna>=2.8 in /usr/local/lib/python3.11/dist-packages (from anyio<5,>=3.6.2->starlette<0.46.0,>=0.40.0->fastapi) (3.10)\n",
            "Requirement already satisfied: sniffio>=1.1 in /usr/local/lib/python3.11/dist-packages (from anyio<5,>=3.6.2->starlette<0.46.0,>=0.40.0->fastapi) (1.3.1)\n",
            "Downloading fastapi-0.115.8-py3-none-any.whl (94 kB)\n",
            "\u001b[2K   \u001b[90m━━━━━━━━━━━━━━━━━━━━━━━━━━━━━━━━━━━━━━━━\u001b[0m \u001b[32m94.8/94.8 kB\u001b[0m \u001b[31m4.3 MB/s\u001b[0m eta \u001b[36m0:00:00\u001b[0m\n",
            "\u001b[?25hDownloading uvicorn-0.34.0-py3-none-any.whl (62 kB)\n",
            "\u001b[2K   \u001b[90m━━━━━━━━━━━━━━━━━━━━━━━━━━━━━━━━━━━━━━━━\u001b[0m \u001b[32m62.3/62.3 kB\u001b[0m \u001b[31m5.1 MB/s\u001b[0m eta \u001b[36m0:00:00\u001b[0m\n",
            "\u001b[?25hDownloading starlette-0.45.3-py3-none-any.whl (71 kB)\n",
            "\u001b[2K   \u001b[90m━━━━━━━━━━━━━━━━━━━━━━━━━━━━━━━━━━━━━━━━\u001b[0m \u001b[32m71.5/71.5 kB\u001b[0m \u001b[31m5.8 MB/s\u001b[0m eta \u001b[36m0:00:00\u001b[0m\n",
            "\u001b[?25hInstalling collected packages: uvicorn, starlette, fastapi\n",
            "Successfully installed fastapi-0.115.8 starlette-0.45.3 uvicorn-0.34.0\n"
          ]
        }
      ]
    },
    {
      "cell_type": "code",
      "source": [
        "pip install python-multipart"
      ],
      "metadata": {
        "colab": {
          "base_uri": "https://localhost:8080/"
        },
        "id": "0jHdrq10yEQG",
        "outputId": "a3b29a8c-17e4-4bb5-b3ba-7b03420b4065"
      },
      "execution_count": 12,
      "outputs": [
        {
          "output_type": "stream",
          "name": "stdout",
          "text": [
            "Collecting python-multipart\n",
            "  Downloading python_multipart-0.0.20-py3-none-any.whl.metadata (1.8 kB)\n",
            "Downloading python_multipart-0.0.20-py3-none-any.whl (24 kB)\n",
            "Installing collected packages: python-multipart\n",
            "Successfully installed python-multipart-0.0.20\n"
          ]
        }
      ]
    },
    {
      "cell_type": "code",
      "source": [
        "from fastapi import FastAPI, UploadFile, File, HTTPException\n",
        "import pandas as pd\n",
        "import shutil\n",
        "\n",
        "app = FastAPI()\n",
        "\n",
        "\n",
        "df = pd.read_csv(\"categorized_transactions.csv\")\n",
        "\n",
        "\n",
        "@app.get(\"/api/transactions\")\n",
        "def get_transactions():\n",
        "    return df.to_dict(orient=\"records\")\n",
        "\n",
        "@app.get(\"/api/summary\")\n",
        "def get_summary():\n",
        "    summary = {\n",
        "        \"Total Income\": df[df[\"Category\"] == \"Income\"][\"Deposit (Cr)\"].sum(),\n",
        "        \"Total Expenses\": df[df[\"Category\"] == \"Expense\"][\"Withdrawal (Dr)\"].sum(),\n",
        "        \"Total Loans Paid\": df[df[\"Category\"] == \"Loan Payment\"][\"Withdrawal (Dr)\"].sum(),\n",
        "        \"Net Balance\": df[\"Deposit (Cr)\"].sum() - df[\"Withdrawal (Dr)\"].sum(),\n",
        "    }\n",
        "    return summary\n",
        "\n",
        "\n",
        "@app.post(\"/api/upload\")\n",
        "async def upload_file(file: UploadFile = File(...)):\n",
        "    if not file.filename.endswith(\".csv\"):\n",
        "        raise HTTPException(status_code=400, detail=\"Only CSV files are allowed\")\n",
        "\n",
        "    file_location = f\"uploaded_{file.filename}\"\n",
        "    with open(file_location, \"wb\") as buffer:\n",
        "        shutil.copyfileobj(file.file, buffer)\n",
        "\n",
        "    return {\"message\": f\"File '{file.filename}' uploaded successfully\"}\n",
        "\n",
        "\n"
      ],
      "metadata": {
        "id": "tAes9ULcuxNG"
      },
      "execution_count": 17,
      "outputs": []
    }
  ]
}